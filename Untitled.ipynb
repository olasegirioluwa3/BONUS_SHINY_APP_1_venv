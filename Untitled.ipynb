{
 "cells": [
  {
   "cell_type": "code",
   "execution_count": 7,
   "id": "4c996ca3-9987-45bc-bc24-9fcff50b2a7d",
   "metadata": {},
   "outputs": [
    {
     "name": "stdout",
     "output_type": "stream",
     "text": [
      "D:\\apps\\python\\BONUS_SHINY_APP_1_venv\\my_shiny_app_sunday\\Scripts\n"
     ]
    }
   ],
   "source": [
    "cd my_shiny_app_sunday/Scripts/"
   ]
  },
  {
   "cell_type": "code",
   "execution_count": 20,
   "id": "fcadc81a-6d10-426a-9fe1-99b4ba2863bc",
   "metadata": {},
   "outputs": [
    {
     "ename": "NameError",
     "evalue": "name 'activate' is not defined",
     "output_type": "error",
     "traceback": [
      "\u001b[1;31m---------------------------------------------------------------------------\u001b[0m",
      "\u001b[1;31mNameError\u001b[0m                                 Traceback (most recent call last)",
      "Cell \u001b[1;32mIn[20], line 1\u001b[0m\n\u001b[1;32m----> 1\u001b[0m \u001b[43mactivate\u001b[49m\u001b[38;5;241m.\u001b[39mbat\n",
      "\u001b[1;31mNameError\u001b[0m: name 'activate' is not defined"
     ]
    }
   ],
   "source": [
    "activate.bat"
   ]
  },
  {
   "cell_type": "code",
   "execution_count": null,
   "id": "d9628c77-c755-407d-8223-6f1945723c5c",
   "metadata": {},
   "outputs": [],
   "source": []
  },
  {
   "cell_type": "code",
   "execution_count": null,
   "id": "5f340035-7638-49f4-8b4a-e7afa64d4b3a",
   "metadata": {},
   "outputs": [],
   "source": []
  }
 ],
 "metadata": {
  "kernelspec": {
   "display_name": "Python 3 (ipykernel)",
   "language": "python",
   "name": "python3"
  },
  "language_info": {
   "codemirror_mode": {
    "name": "ipython",
    "version": 3
   },
   "file_extension": ".py",
   "mimetype": "text/x-python",
   "name": "python",
   "nbconvert_exporter": "python",
   "pygments_lexer": "ipython3",
   "version": "3.8.16"
  }
 },
 "nbformat": 4,
 "nbformat_minor": 5
}
